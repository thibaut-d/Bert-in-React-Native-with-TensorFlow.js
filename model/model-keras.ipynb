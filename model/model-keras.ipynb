{
 "cells": [
  {
   "cell_type": "markdown",
   "metadata": {},
   "source": [
    "# Model built with raw TensorFlow\n",
    "\n",
    "This model is an attempt to drop HuggingFace transformers library and use pure TensorFlow code.\n",
    "\n",
    "The goal is to get a single source of truth and to use directly Google's models.\n",
    "\n",
    "Adapted from: <https://www.tensorflow.org/text/tutorials/classify_text_with_bert>"
   ]
  },
  {
   "cell_type": "code",
   "execution_count": 1,
   "metadata": {},
   "outputs": [],
   "source": [
    "# Base\n",
    "import os\n",
    "import shutil\n",
    "import numpy as np\n",
    "import pandas as pd\n",
    "import matplotlib.pyplot as plt\n",
    "\n",
    "# Tensorflow\n",
    "import tensorflow as tf\n",
    "import tensorflow_hub as hub\n",
    "import tensorflow_text as text\n",
    "import tensorflowjs as tfjs\n",
    "#from official.nlp import optimization  # to create AdamW optimizer\n",
    "\n",
    "# Data\n",
    "from datasets import load_dataset\n",
    "\n",
    "# Custom\n",
    "from helper_functions import load_sst_dataset, plot_model_history, save_ts_model"
   ]
  },
  {
   "cell_type": "markdown",
   "metadata": {},
   "source": [
    "## Configuration"
   ]
  },
  {
   "cell_type": "code",
   "execution_count": 2,
   "metadata": {},
   "outputs": [],
   "source": [
    "# Set TensorFlow to log only the errors\n",
    "tf.get_logger().setLevel('ERROR')\n",
    "\n",
    "# Force the use of the CPU instead of the GPU if running out of GPU memory\n",
    "device = '/CPU:0' # input '/CPU:0' to use the CPU or '/GPU:0' for the GPU\n",
    "\n",
    "# Model to be used\n",
    "bert_model_name         = 'small_bert/bert_en_uncased_L-2_H-128_A-2'\n",
    "tfhub_handle_encoder    = 'https://tfhub.dev/tensorflow/small_bert/bert_en_uncased_L-2_H-128_A-2/2'\n",
    "tfhub_handle_preprocess = 'https://tfhub.dev/tensorflow/bert_en_uncased_preprocess/3'\n",
    "\n",
    "\n",
    "# Tokenizing parameters\n",
    "max_length = 60    # Max length of an input\n",
    "\n",
    "# Training parameters\n",
    "epochs = 1  # 1 is enough for code testing"
   ]
  },
  {
   "cell_type": "markdown",
   "metadata": {},
   "source": [
    "## Load the dataset"
   ]
  },
  {
   "cell_type": "code",
   "execution_count": 3,
   "metadata": {},
   "outputs": [
    {
     "name": "stderr",
     "output_type": "stream",
     "text": [
      "Reusing dataset sst (C:\\Users\\thiba\\.cache\\huggingface\\datasets\\sst\\default\\1.0.0\\b8a7889ef01c5d3ae8c379b84cc4080f8aad3ac2bc538701cbe0ac6416fb76ff)\n",
      "100%|██████████| 3/3 [00:00<00:00, 36.15it/s]\n"
     ]
    }
   ],
   "source": [
    "text_train, Y1, Y2, text_test, Y1_test, Y2_test = load_sst_dataset()"
   ]
  },
  {
   "cell_type": "markdown",
   "metadata": {},
   "source": [
    "## Load Bert"
   ]
  },
  {
   "cell_type": "code",
   "execution_count": 4,
   "metadata": {},
   "outputs": [],
   "source": [
    "# For preprocessing\n",
    "bert_preprocess_model = hub.KerasLayer(tfhub_handle_preprocess)\n",
    "\n",
    "# Bert itself\n",
    "bert_model = hub.KerasLayer(tfhub_handle_encoder)"
   ]
  },
  {
   "cell_type": "markdown",
   "metadata": {},
   "source": [
    "## Build the model"
   ]
  },
  {
   "cell_type": "code",
   "execution_count": 7,
   "metadata": {},
   "outputs": [],
   "source": [
    "def build_classifier_model():\n",
    "\n",
    "  # Input\n",
    "  text_input = tf.keras.layers.Input(shape=(), dtype=tf.string, name='text')\n",
    "\n",
    "  # Preprocessing \n",
    "  preprocessing_layer = hub.KerasLayer(tfhub_handle_preprocess, name='preprocessing')\n",
    "\n",
    "  # Encoder\n",
    "  encoder_inputs = preprocessing_layer(text_input)\n",
    "  encoder = hub.KerasLayer(tfhub_handle_encoder, trainable=True, name='BERT_encoder')\n",
    "\n",
    "  # Encoder's output\n",
    "  outputs = encoder(encoder_inputs)\n",
    "  net = outputs['pooled_output']\n",
    "  net = tf.keras.layers.Dropout(0.1)(net)\n",
    "\n",
    "  # Classifier\n",
    "  regression = tf.keras.layers.Dense(1, name='regression')(net)\n",
    "  classifier = tf.keras.layers.Dense(1, name='classifier')(net)\n",
    "\n",
    "  # Final output\n",
    "  outputs = {'regression': regression, 'classifier': classifier}\n",
    "\n",
    "  # Return the model\n",
    "  return tf.keras.Model(text_input, outputs)"
   ]
  },
  {
   "cell_type": "code",
   "execution_count": 8,
   "metadata": {},
   "outputs": [],
   "source": [
    "# Build the model\n",
    "model = build_classifier_model()"
   ]
  },
  {
   "cell_type": "code",
   "execution_count": 9,
   "metadata": {},
   "outputs": [],
   "source": [
    "# Loss function used\n",
    "loss = tf.keras.losses.BinaryCrossentropy(from_logits=True)\n",
    "\n",
    "# Metric for results evaluation\n",
    "metrics = tf.metrics.BinaryAccuracy()"
   ]
  },
  {
   "cell_type": "code",
   "execution_count": 10,
   "metadata": {},
   "outputs": [],
   "source": [
    "# Define the optimizer\n",
    "optimizer = tf.keras.optimizers.Adam(\n",
    "        learning_rate=5e-05,\n",
    "        epsilon=1e-08,\n",
    "        decay=0.01,\n",
    "        clipnorm=1.0)"
   ]
  },
  {
   "cell_type": "code",
   "execution_count": 11,
   "metadata": {},
   "outputs": [],
   "source": [
    "# Compile the model\n",
    "model.compile(optimizer=optimizer,\n",
    "              loss=loss,\n",
    "              metrics=metrics)"
   ]
  },
  {
   "cell_type": "code",
   "execution_count": 12,
   "metadata": {},
   "outputs": [],
   "source": [
    "# Training input\n",
    "x = {'text': tf.convert_to_tensor(text_train)}\n",
    "\n",
    "# Training output\n",
    "y = {'classifier': Y2, 'regression':Y1}"
   ]
  },
  {
   "cell_type": "code",
   "execution_count": 14,
   "metadata": {},
   "outputs": [
    {
     "name": "stdout",
     "output_type": "stream",
     "text": [
      "107/107 [==============================] - 131s 1s/step - loss: 1.4028 - classifier_loss: 0.6926 - regression_loss: 0.7102 - classifier_binary_accuracy: 0.5108 - regression_binary_accuracy: 0.0015 - val_loss: 1.5522 - val_classifier_loss: 0.8282 - val_regression_loss: 0.7241 - val_classifier_binary_accuracy: 0.6290 - val_regression_binary_accuracy: 0.0041\n"
     ]
    }
   ],
   "source": [
    "# doc: https://www.tensorflow.org/api_docs/python/tf/keras/Model#fit\n",
    "history = model.fit(\n",
    "    x=x,\n",
    "    y=y,\n",
    "    validation_split=0.2,\n",
    "    batch_size=64,\n",
    "    epochs=epochs,\n",
    "    )"
   ]
  },
  {
   "cell_type": "code",
   "execution_count": 15,
   "metadata": {},
   "outputs": [
    {
     "name": "stdout",
     "output_type": "stream",
     "text": [
      "104/104 [==============================] - 27s 258ms/step - loss: 1.3641 - classifier_loss: 0.6793 - regression_loss: 0.6849 - classifier_binary_accuracy: 0.6515 - regression_binary_accuracy: 0.0027\n"
     ]
    }
   ],
   "source": [
    "# Test input\n",
    "x_test = {'text': tf.convert_to_tensor(text_test)}\n",
    "\n",
    "# Test output\n",
    "y_test = {'classifier': Y2_test, 'regression':Y1_test}\n",
    "\n",
    "model_eval = model.evaluate(\n",
    "    x=x_test,\n",
    "    y=y_test,\n",
    "    )"
   ]
  },
  {
   "cell_type": "code",
   "execution_count": 16,
   "metadata": {},
   "outputs": [
    {
     "name": "stderr",
     "output_type": "stream",
     "text": [
      "WARNING:absl:Found untraced functions such as restored_function_body, restored_function_body, restored_function_body, restored_function_body, restored_function_body while saving (showing 5 of 165). These functions will not be directly callable after loading.\n"
     ]
    }
   ],
   "source": [
    "model.save(\"./test_ts\")"
   ]
  },
  {
   "cell_type": "code",
   "execution_count": 17,
   "metadata": {},
   "outputs": [],
   "source": [
    "tfjs.converters.save_keras_model(model, \"./test_tfjs\")"
   ]
  },
  {
   "cell_type": "markdown",
   "metadata": {},
   "source": [
    "see: <https://www.tensorflow.org/js/tutorials/conversion/import_keras>"
   ]
  }
 ],
 "metadata": {
  "interpreter": {
   "hash": "bda197ddedf6ec285a187733776d3e3dbe80c997e28ce01a7c84215752101f1a"
  },
  "kernelspec": {
   "display_name": "Python 3.9.7 64-bit ('bert': conda)",
   "name": "python3"
  },
  "language_info": {
   "codemirror_mode": {
    "name": "ipython",
    "version": 3
   },
   "file_extension": ".py",
   "mimetype": "text/x-python",
   "name": "python",
   "nbconvert_exporter": "python",
   "pygments_lexer": "ipython3",
   "version": "3.9.7"
  },
  "orig_nbformat": 4
 },
 "nbformat": 4,
 "nbformat_minor": 2
}
