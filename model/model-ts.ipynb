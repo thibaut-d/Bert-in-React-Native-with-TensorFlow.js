{
 "cells": [
  {
   "cell_type": "markdown",
   "metadata": {},
   "source": [
    "# Model built with raw TensorFlow\n",
    "\n",
    "This model is an attempt to drop HuggingFace transformers library and use pure TensorFlow code.\n",
    "\n",
    "The goal is to get a single source of truth and to use directly Google's models."
   ]
  },
  {
   "cell_type": "code",
   "execution_count": null,
   "metadata": {},
   "outputs": [],
   "source": []
  }
 ],
 "metadata": {
  "language_info": {
   "name": "python"
  },
  "orig_nbformat": 4
 },
 "nbformat": 4,
 "nbformat_minor": 2
}
