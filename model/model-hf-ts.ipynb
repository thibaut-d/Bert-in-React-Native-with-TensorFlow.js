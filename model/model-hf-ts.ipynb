{
 "cells": [
  {
   "cell_type": "markdown",
   "metadata": {},
   "source": [
    "# Multi-outputs BERT Model with HuggingFace transformer library, using TensorFlow compatible models."
   ]
  },
  {
   "cell_type": "markdown",
   "metadata": {},
   "source": [
    "## Imports"
   ]
  },
  {
   "cell_type": "code",
   "execution_count": 57,
   "metadata": {},
   "outputs": [],
   "source": [
    "# Base\n",
    "import numpy as np\n",
    "import pandas as pd\n",
    "import matplotlib.pyplot as plt\n",
    "\n",
    "# Tensorflow\n",
    "import tensorflow as tf\n",
    "import tensorflow_text as tf_text\n",
    "from tensorflow.keras.layers import Input, Dropout, Dense\n",
    "from tensorflow.keras.models import Model\n",
    "from tensorflow.keras.optimizers import Adam\n",
    "from tensorflow.keras.callbacks import EarlyStopping\n",
    "from tensorflow.keras.initializers import TruncatedNormal\n",
    "from tensorflow.keras.losses import BinaryCrossentropy\n",
    "from tensorflow.keras.metrics import BinaryAccuracy\n",
    "from tensorflow.keras.utils import to_categorical\n",
    "\n",
    "# Huggingface\n",
    "from transformers import TFBertModel,  BertConfig, BertTokenizerFast\n",
    "\n",
    "# Custom\n",
    "from helper_functions import load_sst_dataset, plot_model_history, save_ts_model"
   ]
  },
  {
   "cell_type": "markdown",
   "metadata": {},
   "source": [
    "## Configuration"
   ]
  },
  {
   "cell_type": "code",
   "execution_count": 44,
   "metadata": {},
   "outputs": [],
   "source": [
    "# Force the use of offline files for huggingface\n",
    "# https://huggingface.co/transformers/installation.html\n",
    "# %env TRANSFORMERS_OFFLINE=1\n",
    "# %env HF_DATASETS_OFFLINE=1\n",
    "\n",
    "# Force the use of the CPU instead of the GPU if running out of GPU memory\n",
    "#my_devices = tf.config.experimental.list_physical_devices(device_type='CPU')\n",
    "#tf.config.experimental.set_visible_devices(devices= my_devices, device_type='CPU')\n",
    "device = '/CPU:0' # input '/CPU:0' to use the CPU or '/GPU:0' for the GPU\n",
    "\n",
    "# Model to be used\n",
    "model_name = 'bert-base-uncased'                    # full standard Bert\n",
    "\n",
    "# Tokenizing parameters\n",
    "max_length = 60    # Max length of an input\n",
    "\n",
    "# Training parameters\n",
    "epochs = 1  # 1 is enough for code testing"
   ]
  },
  {
   "cell_type": "markdown",
   "metadata": {},
   "source": [
    "## Load the data"
   ]
  },
  {
   "cell_type": "code",
   "execution_count": 45,
   "metadata": {},
   "outputs": [
    {
     "name": "stderr",
     "output_type": "stream",
     "text": [
      "WARNING:datasets.builder:Reusing dataset sst (C:\\Users\\thiba\\.cache\\huggingface\\datasets\\sst\\default\\1.0.0\\b8a7889ef01c5d3ae8c379b84cc4080f8aad3ac2bc538701cbe0ac6416fb76ff)\n",
      "100%|██████████| 3/3 [00:00<00:00, 596.49it/s]\n"
     ]
    }
   ],
   "source": [
    "text_train, Y1, Y2, text_test, Y1_test, Y2_test = load_sst_dataset()"
   ]
  },
  {
   "cell_type": "markdown",
   "metadata": {},
   "source": [
    "## Load a BERT model from HuggingFace library"
   ]
  },
  {
   "cell_type": "code",
   "execution_count": 48,
   "metadata": {},
   "outputs": [
    {
     "name": "stderr",
     "output_type": "stream",
     "text": [
      "DEBUG:filelock:Attempting to acquire lock 2686501633856 on C:\\Users\\thiba/.cache\\huggingface\\transformers\\f55082bb509cfd3585c1d6e383f529197f03fce817374e4edf03306593ef4c16.8198c2ba6b951372d5ca981b940a059b96ebbb3c514469a2aae7636fa05eb25e.lock\n",
      "DEBUG:filelock:Lock 2686501633856 acquired on C:\\Users\\thiba/.cache\\huggingface\\transformers\\f55082bb509cfd3585c1d6e383f529197f03fce817374e4edf03306593ef4c16.8198c2ba6b951372d5ca981b940a059b96ebbb3c514469a2aae7636fa05eb25e.lock\n",
      "Downloading: 100%|██████████| 847/847 [00:00<00:00, 423kB/s]\n",
      "DEBUG:filelock:Attempting to release lock 2686501633856 on C:\\Users\\thiba/.cache\\huggingface\\transformers\\f55082bb509cfd3585c1d6e383f529197f03fce817374e4edf03306593ef4c16.8198c2ba6b951372d5ca981b940a059b96ebbb3c514469a2aae7636fa05eb25e.lock\n",
      "DEBUG:filelock:Lock 2686501633856 released on C:\\Users\\thiba/.cache\\huggingface\\transformers\\f55082bb509cfd3585c1d6e383f529197f03fce817374e4edf03306593ef4c16.8198c2ba6b951372d5ca981b940a059b96ebbb3c514469a2aae7636fa05eb25e.lock\n",
      "You are using a model of type mobilebert to instantiate a model of type bert. This is not supported for all configurations of models and can yield errors.\n",
      "DEBUG:filelock:Attempting to acquire lock 2686318736432 on C:\\Users\\thiba/.cache\\huggingface\\transformers\\5e4066647b27a1b9dd70357bf9182b58a118ed150d03e01e016e4d5a6180bf83.d789d64ebfe299b0e416afc4a169632f903f693095b4629a7ea271d5a0cf2c99.lock\n",
      "DEBUG:filelock:Lock 2686318736432 acquired on C:\\Users\\thiba/.cache\\huggingface\\transformers\\5e4066647b27a1b9dd70357bf9182b58a118ed150d03e01e016e4d5a6180bf83.d789d64ebfe299b0e416afc4a169632f903f693095b4629a7ea271d5a0cf2c99.lock\n",
      "Downloading: 100%|██████████| 226k/226k [00:00<00:00, 816kB/s] \n",
      "DEBUG:filelock:Attempting to release lock 2686318736432 on C:\\Users\\thiba/.cache\\huggingface\\transformers\\5e4066647b27a1b9dd70357bf9182b58a118ed150d03e01e016e4d5a6180bf83.d789d64ebfe299b0e416afc4a169632f903f693095b4629a7ea271d5a0cf2c99.lock\n",
      "DEBUG:filelock:Lock 2686318736432 released on C:\\Users\\thiba/.cache\\huggingface\\transformers\\5e4066647b27a1b9dd70357bf9182b58a118ed150d03e01e016e4d5a6180bf83.d789d64ebfe299b0e416afc4a169632f903f693095b4629a7ea271d5a0cf2c99.lock\n",
      "DEBUG:filelock:Attempting to acquire lock 2686539161760 on C:\\Users\\thiba/.cache\\huggingface\\transformers\\c9be16e9fb7d1242d2721fc945935452d2eabd573cc6458bcbb029153e1c1b67.7f2721073f19841be16f41b0a70b600ca6b880c8f3df6f3535cbc704371bdfa4.lock\n",
      "DEBUG:filelock:Lock 2686539161760 acquired on C:\\Users\\thiba/.cache\\huggingface\\transformers\\c9be16e9fb7d1242d2721fc945935452d2eabd573cc6458bcbb029153e1c1b67.7f2721073f19841be16f41b0a70b600ca6b880c8f3df6f3535cbc704371bdfa4.lock\n",
      "Downloading: 100%|██████████| 455k/455k [00:00<00:00, 948kB/s]\n",
      "DEBUG:filelock:Attempting to release lock 2686539161760 on C:\\Users\\thiba/.cache\\huggingface\\transformers\\c9be16e9fb7d1242d2721fc945935452d2eabd573cc6458bcbb029153e1c1b67.7f2721073f19841be16f41b0a70b600ca6b880c8f3df6f3535cbc704371bdfa4.lock\n",
      "DEBUG:filelock:Lock 2686539161760 released on C:\\Users\\thiba/.cache\\huggingface\\transformers\\c9be16e9fb7d1242d2721fc945935452d2eabd573cc6458bcbb029153e1c1b67.7f2721073f19841be16f41b0a70b600ca6b880c8f3df6f3535cbc704371bdfa4.lock\n",
      "The tokenizer class you load from this checkpoint is not the same type as the class this function is called from. It may result in unexpected tokenization. \n",
      "The tokenizer class you load from this checkpoint is 'MobileBertTokenizer'. \n",
      "The class this function is called from is 'BertTokenizerFast'.\n",
      "DEBUG:filelock:Attempting to acquire lock 2687250642016 on C:\\Users\\thiba/.cache\\huggingface\\transformers\\105131517ec120df964e650a4c6c83284d6b6503665c399e38a66716b3112240.cfe5c0c58ac0f1b14740667bf87475bfb67d624cfba620ed22243868c8a3fe01.h5.lock\n",
      "DEBUG:filelock:Lock 2687250642016 acquired on C:\\Users\\thiba/.cache\\huggingface\\transformers\\105131517ec120df964e650a4c6c83284d6b6503665c399e38a66716b3112240.cfe5c0c58ac0f1b14740667bf87475bfb67d624cfba620ed22243868c8a3fe01.h5.lock\n",
      "Downloading: 100%|██████████| 156M/156M [00:23<00:00, 6.88MB/s]\n",
      "DEBUG:filelock:Attempting to release lock 2687250642016 on C:\\Users\\thiba/.cache\\huggingface\\transformers\\105131517ec120df964e650a4c6c83284d6b6503665c399e38a66716b3112240.cfe5c0c58ac0f1b14740667bf87475bfb67d624cfba620ed22243868c8a3fe01.h5.lock\n",
      "DEBUG:filelock:Lock 2687250642016 released on C:\\Users\\thiba/.cache\\huggingface\\transformers\\105131517ec120df964e650a4c6c83284d6b6503665c399e38a66716b3112240.cfe5c0c58ac0f1b14740667bf87475bfb67d624cfba620ed22243868c8a3fe01.h5.lock\n",
      "Some layers from the model checkpoint at google/mobilebert-uncased were not used when initializing TFBertModel: ['predictions___cls', 'mobilebert', 'seq_relationship___cls']\n",
      "- This IS expected if you are initializing TFBertModel from the checkpoint of a model trained on another task or with another architecture (e.g. initializing a BertForSequenceClassification model from a BertForPreTraining model).\n",
      "- This IS NOT expected if you are initializing TFBertModel from the checkpoint of a model that you expect to be exactly identical (initializing a BertForSequenceClassification model from a BertForSequenceClassification model).\n",
      "Some layers of TFBertModel were not initialized from the model checkpoint at google/mobilebert-uncased and are newly initialized: ['bert']\n",
      "You should probably TRAIN this model on a down-stream task to be able to use it for predictions and inference.\n"
     ]
    }
   ],
   "source": [
    "# Load the configuration from the model\n",
    "with tf.device(device):\n",
    "  config = BertConfig.from_pretrained(model_name)\n",
    "\n",
    "  # We don't need the output of the hidden layers\n",
    "  config.output_hidden_states = False\n",
    "\n",
    "  # Load BERT tokenizer\n",
    "  tokenizer = BertTokenizerFast.from_pretrained(pretrained_model_name_or_path = model_name, config = config)\n",
    "\n",
    "  # Load the Transformers BERT model\n",
    "  encoder = TFBertModel.from_pretrained(model_name, config = config, from_pt=from_pt)"
   ]
  },
  {
   "cell_type": "markdown",
   "metadata": {},
   "source": [
    "## Tokenize the text"
   ]
  },
  {
   "cell_type": "code",
   "execution_count": 49,
   "metadata": {},
   "outputs": [],
   "source": [
    "# Use Hugging Face tokenizer loaded before\n",
    "def tokenize(t):\n",
    "    \"\"\" Shared configuration for the tokenizer \"\"\"\n",
    "    return tokenizer(\n",
    "        text=t,\n",
    "        add_special_tokens=True,\n",
    "        max_length=max_length,\n",
    "        truncation=True,\n",
    "        padding=True, \n",
    "        return_tensors='tf',\n",
    "        return_token_type_ids = True,\n",
    "        return_attention_mask = True,\n",
    "        verbose = True)\n",
    "\n",
    "# Tokenize the train and test texts\n",
    "X = tokenize(text_train)\n",
    "X_test = tokenize(text_test)"
   ]
  },
  {
   "cell_type": "code",
   "execution_count": 50,
   "metadata": {},
   "outputs": [
    {
     "name": "stdout",
     "output_type": "stream",
     "text": [
      "Model: \"Multi-output_BERT\"\n",
      "__________________________________________________________________________________________________\n",
      "Layer (type)                    Output Shape         Param #     Connected to                     \n",
      "==================================================================================================\n",
      "input_ids (InputLayer)          [(None, 60)]         0                                            \n",
      "__________________________________________________________________________________________________\n",
      "attention_mask (InputLayer)     [(None, 60)]         0                                            \n",
      "__________________________________________________________________________________________________\n",
      "token_type_ids (InputLayer)     [(None, 60)]         0                                            \n",
      "__________________________________________________________________________________________________\n",
      "tf_bert_model_3 (TFBertModel)   TFBaseModelOutputWit 54025728    input_ids[0][0]                  \n",
      "                                                                 attention_mask[0][0]             \n",
      "                                                                 token_type_ids[0][0]             \n",
      "__________________________________________________________________________________________________\n",
      "pooled_output (Dropout)         (None, 512)          0           tf_bert_model_3[0][1]            \n",
      "__________________________________________________________________________________________________\n",
      "Y1 (Dense)                      (None, 1)            513         pooled_output[0][0]              \n",
      "__________________________________________________________________________________________________\n",
      "Y2 (Dense)                      (None, 1)            513         pooled_output[0][0]              \n",
      "==================================================================================================\n",
      "Total params: 54,026,754\n",
      "Trainable params: 54,026,754\n",
      "Non-trainable params: 0\n",
      "__________________________________________________________________________________________________\n"
     ]
    }
   ],
   "source": [
    "# TF Keras documentation: https://www.tensorflow.org/api_docs/python/tf/keras/Model\n",
    "\n",
    "# Create model function\n",
    "def create_model():\n",
    "\n",
    "    # Build your model input\n",
    "    input_ids = Input(shape=(max_length,), name='input_ids', dtype='int32')\n",
    "    token_type_ids = Input(shape=(max_length,), name=\"token_type_ids\", dtype='int32')\n",
    "    attention_mask = Input(shape=(max_length,), name='attention_mask', dtype='int32')\n",
    "    \n",
    "    inputs = {\n",
    "        'input_ids': input_ids, \n",
    "        'token_type_ids':token_type_ids, \n",
    "        'attention_mask': attention_mask\n",
    "        }\n",
    "\n",
    "    \n",
    "    # BERT, loading the model\n",
    "    # Extract the Bert layers from the encoder loaded before\n",
    "    bert_model = encoder(input_ids, token_type_ids=token_type_ids, attention_mask=attention_mask)[1]\n",
    "    # If we don't want to fine tune the Bert model on the dataset, then we force to weight to stay constant\n",
    "    bert_model.trainable = False\n",
    "    \n",
    "    # Dropout layer\n",
    "    dropout = Dropout(config.hidden_dropout_prob, name='pooled_output')\n",
    "    pooled_output = dropout(bert_model, training=False)\n",
    "    \n",
    "    # Then build the model output\n",
    "    Y1_output = Dense(1, name='Y1')(pooled_output)\n",
    "    Y2_output = Dense(units=1, kernel_initializer=TruncatedNormal(stddev=config.initializer_range), name='Y2')(pooled_output)\n",
    "    \n",
    "    outputs = {'Y1': Y1_output, 'Y2': Y2_output}\n",
    "\n",
    "    # Define the model\n",
    "    model = Model(inputs=inputs, outputs=outputs, name='Multi-output_BERT')\n",
    "\n",
    "    # Set an optimizer\n",
    "    optimizer = Adam(\n",
    "        learning_rate=5e-05,\n",
    "        epsilon=1e-08,\n",
    "        decay=0.01,\n",
    "        clipnorm=1.0)\n",
    "\n",
    "    # Set loss functions\n",
    "    loss = {\n",
    "        'Y1': tf.keras.losses.MeanSquaredError(),    # loss for a continuous variable\n",
    "        'Y2': BinaryCrossentropy(),                  # loss for a binary categorical variable\n",
    "        }\n",
    "\n",
    "    # Set metrics    \n",
    "    metric = {\n",
    "        'Y1': tf.keras.metrics.MeanSquaredError('mse'),\n",
    "        'Y2': BinaryAccuracy('accuracy')\n",
    "        }\n",
    "\n",
    "    # Compile the model\n",
    "    model.compile(\n",
    "        optimizer = optimizer,\n",
    "        loss = loss, \n",
    "        metrics = metric)\n",
    "\n",
    "    return model\n",
    "\n",
    "\n",
    "# Create the model\n",
    "with tf.device(device):\n",
    "    model = create_model()\n",
    "    \n",
    "# Take a look at the model\n",
    "model.summary()"
   ]
  },
  {
   "cell_type": "markdown",
   "metadata": {},
   "source": [
    "## Train the model"
   ]
  },
  {
   "cell_type": "code",
   "execution_count": 51,
   "metadata": {},
   "outputs": [],
   "source": [
    "# Training input\n",
    "x = {'input_ids': X['input_ids'], 'token_type_ids': X['token_type_ids'], 'attention_mask': X['attention_mask']}\n",
    "# print(x)\n",
    "\n",
    "# Training output\n",
    "y = {'Y1': Y1, 'Y2': Y2}\n",
    "# print(y)"
   ]
  },
  {
   "cell_type": "code",
   "execution_count": 52,
   "metadata": {},
   "outputs": [
    {
     "name": "stdout",
     "output_type": "stream",
     "text": [
      "107/107 [==============================] - 2446s 23s/step - loss: 6.5228 - Y1_loss: 0.2920 - Y2_loss: 6.2308 - Y1_mse: 0.2920 - Y2_accuracy: 0.5832 - val_loss: 12.5786 - val_Y1_loss: 0.0955 - val_Y2_loss: 12.4831 - val_Y1_mse: 0.0955 - val_Y2_accuracy: 0.1814\n"
     ]
    }
   ],
   "source": [
    "# Fit the model\n",
    "with tf.device(device):\n",
    "    history = model.fit(\n",
    "        x=x,\n",
    "        y=y,\n",
    "        validation_split=0.2,\n",
    "        batch_size=64,\n",
    "        epochs=epochs,\n",
    "        )"
   ]
  },
  {
   "cell_type": "markdown",
   "metadata": {},
   "source": [
    "## Test the model"
   ]
  },
  {
   "cell_type": "code",
   "execution_count": 53,
   "metadata": {},
   "outputs": [
    {
     "name": "stdout",
     "output_type": "stream",
     "text": [
      "104/104 [==============================] - 404s 4s/step - loss: 7.9035 - Y1_loss: 0.0693 - Y2_loss: 7.8342 - Y1_mse: 0.0693 - Y2_accuracy: 0.4863\n"
     ]
    }
   ],
   "source": [
    "# Run evaluation\n",
    "with tf.device(device):\n",
    "    model_eval = model.evaluate(\n",
    "        x={'input_ids': X_test['input_ids'], 'token_type_ids': X_test['token_type_ids'], 'attention_mask': X_test['attention_mask']},\n",
    "        y={'Y1': Y1_test, 'Y2': Y2_test}\n",
    "    )"
   ]
  },
  {
   "cell_type": "code",
   "execution_count": 54,
   "metadata": {},
   "outputs": [
    {
     "data": {
      "image/png": "[encoded data removed]",
      "text/plain": [
       "<Figure size 432x288 with 2 Axes>"
      ]
     },
     "metadata": {
      "needs_background": "light"
     },
     "output_type": "display_data"
    },
    {
     "data": {
      "image/png": "[encoded data removed]",
      "text/plain": [
       "<Figure size 432x288 with 2 Axes>"
      ]
     },
     "metadata": {
      "needs_background": "light"
     },
     "output_type": "display_data"
    }
   ],
   "source": [
    "plot_model_history('Y1_loss','Y1_mse')\n",
    "plot_model_history('Y2_loss','Y2_accuracy')"
   ]
  },
  {
   "cell_type": "markdown",
   "metadata": {},
   "source": [
    "## Export to tensorflow.js"
   ]
  },
  {
   "cell_type": "code",
   "execution_count": null,
   "metadata": {},
   "outputs": [],
   "source": [
    "save_ts_model(model,epochs,model_name)"
   ]
  }
 ],
 "metadata": {
  "interpreter": {
   "hash": "bda197ddedf6ec285a187733776d3e3dbe80c997e28ce01a7c84215752101f1a"
  },
  "kernelspec": {
   "display_name": "Python 3.9.7 64-bit ('bert': conda)",
   "name": "python3"
  },
  "language_info": {
   "codemirror_mode": {
    "name": "ipython",
    "version": 3
   },
   "file_extension": ".py",
   "mimetype": "text/x-python",
   "name": "python",
   "nbconvert_exporter": "python",
   "pygments_lexer": "ipython3",
   "version": "3.9.7"
  },
  "orig_nbformat": 4
 },
 "nbformat": 4,
 "nbformat_minor": 2
}
